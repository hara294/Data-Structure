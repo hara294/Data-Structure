{
  "nbformat": 4,
  "nbformat_minor": 0,
  "metadata": {
    "colab": {
      "provenance": []
    },
    "kernelspec": {
      "name": "python3",
      "display_name": "Python 3"
    },
    "language_info": {
      "name": "python"
    }
  },
  "cells": [
    {
      "cell_type": "markdown",
      "source": [
        "1.What are data structures, and why are they important?\n",
        "\n",
        "->Data structures are fundamental part of programming as they allow for efficient storage, organization, and access of data.\n",
        "they are important because they opmtimize tasks like sorting, searching, etc.\n",
        "\n",
        "2.Explain the difference between mutable and immutable data types with examples.\n",
        "\n",
        "->Mutable data:- data that can be edited after they are created.\n",
        "for example-lists\n",
        "Immutable data:- data that can not be edited or changed after there creation\n",
        "for example-string,tuples\n",
        "\n",
        "3.What are the main differences between lists and tuples in Python?\n",
        "\n",
        "->Lists are mutable data type where as tuples are immutable data type.\n",
        "Syntax:- lists uses [] and tuples uses()\n",
        "\n",
        "4.Describe how dictionaries store data?\n",
        "\n",
        "->Dictionaries store data as key-value pairs in a hash table.\n",
        "\n",
        "5.Why might you use a set instead of a list in Python?\n",
        "\n",
        "->Set can be used when u need to ensure\n",
        "there is no duplicate elements.\n",
        "\n",
        "6.What is a string in Python, and how is it different from a list?\n",
        "\n",
        "->String is sequence of character, while lists can be a sequence of any data type.\n",
        "Strings are immutable but lists are mutable.\n",
        "\n",
        "7.How do tuples ensure data integrity in Python?\n",
        "\n",
        "->Tuples are immutable, meaning their content cannot be changed after creation.\n",
        "So, data remain unchanged throughout its use.\n",
        "\n",
        "8.What is a hash table, and how does it relate to dictionaries in Python?\n",
        "\n",
        "->Hash tables is a data strcuture that  store key-value pairs. Hash tables can be implemented through the built-in dictionary data type.\n",
        "\n",
        "9.Can lists contain different data types in Python?\n",
        "\n",
        "->Yes, lists contain different data types in Python.\n",
        "\n",
        "10.Explain why strings are immutable in Python?\n",
        "\n",
        "->The immutability of Python string is very useful as it helps in hashing, performance optimization, safety, ease of use, etc.\n",
        "\n",
        "11.What advantages do dictionaries offer over lists for certain tasks?\n",
        "\n",
        "->Dictionaries store data in key vlaue pair, so they can be used when we need to store data relating to another. for example phonebook(number with name), etc.\n",
        "\n",
        "12.Describe a scenario where using a tuple would be preferable over a list?\n",
        "\n",
        "->Tuples are preferred when you want to ensure the data remains unchanged, such as coordinates or configurations that shouldn't be modified.\n",
        "\n",
        "13.How do sets handle duplicate values in Python?\n",
        "\n",
        "->Sets automatically remove duplicate values.\n",
        "\n",
        "14.How does the “in” keyword work differently for lists and dictionaries?\n",
        "\n",
        "->Lists: Checks if a value exists in the list.\n",
        "Dictionaries: Checks if a key exists in the dictionary.\n",
        "\n",
        "15.Can you modify the elements of a tuple? Explain why or why not?\n",
        "\n",
        "->Tuples, unlike lists, are immutable. This means that once a tuple's elements have been allocated, they cannot be modified; attempting to do so will result in a TypeError.\n",
        "\n",
        "16.What is a nested dictionary, and give an example of its use case?\n",
        "\n",
        "->A nested dictionary is a dictionary inside another dictionary. Use case: Storing complex hierarchical data.\n",
        "\n",
        "17.Describe the time complexity of accessing elements in a dictionary.\n",
        "\n",
        "->O(1) is the time complexity of dictionary.\n",
        "\n",
        "18.In what situations are lists preferred over dictionaries?\n",
        "\n",
        "->Lists are used when key value pair is not required and duplicate data is important.\n",
        "\n",
        "19.Why are dictionaries considered unordered, and how does that affect data retrieval?\n",
        "\n",
        "->Dictionaries were unordered before Python 3.7. Starting from Python 3.7, they maintain insertion order. Regardless, data retrieval is still based on keys and not the order.\n",
        "\n",
        "20.Explain the difference between a list and a dictionary in terms of data retrieval.\n",
        "\n",
        "->In list data can be acessed by index where as in dictionary data can searched thorugh keys.\n"
      ],
      "metadata": {
        "id": "8mXKO85nuJZi"
      }
    },
    {
      "cell_type": "code",
      "source": [
        "#1.Write a code to create a string with your name and print it\n",
        "a = \"Hara Prasad Dash\"\n",
        "print(a)"
      ],
      "metadata": {
        "colab": {
          "base_uri": "https://localhost:8080/"
        },
        "id": "s9deyIOK6YDJ",
        "outputId": "046fd17b-19ba-48b0-89a1-95a4bced1882"
      },
      "execution_count": 5,
      "outputs": [
        {
          "output_type": "stream",
          "name": "stdout",
          "text": [
            "Hara Prasad Dash\n"
          ]
        }
      ]
    },
    {
      "cell_type": "code",
      "source": [
        "#2.Write a code to find the length of the string \"Hello World\n",
        "b = \"Hello World\"\n",
        "len(b)"
      ],
      "metadata": {
        "colab": {
          "base_uri": "https://localhost:8080/"
        },
        "id": "57pFGs3N6X7v",
        "outputId": "4f6c571a-5ea8-4735-8896-8df162ab7a6c"
      },
      "execution_count": 7,
      "outputs": [
        {
          "output_type": "execute_result",
          "data": {
            "text/plain": [
              "11"
            ]
          },
          "metadata": {},
          "execution_count": 7
        }
      ]
    },
    {
      "cell_type": "code",
      "source": [
        "#3. Write a code to slice the first 3 characters from the string \"Python Programming\n",
        "c = \"Python Programming\"\n",
        "c[0:3]"
      ],
      "metadata": {
        "colab": {
          "base_uri": "https://localhost:8080/",
          "height": 35
        },
        "id": "-nZFZi8K6X09",
        "outputId": "e7fcddb5-181c-4b52-ec45-20d5c4680262"
      },
      "execution_count": 8,
      "outputs": [
        {
          "output_type": "execute_result",
          "data": {
            "text/plain": [
              "'Pyt'"
            ],
            "application/vnd.google.colaboratory.intrinsic+json": {
              "type": "string"
            }
          },
          "metadata": {},
          "execution_count": 8
        }
      ]
    },
    {
      "cell_type": "code",
      "source": [
        "#4. Write a code to convert the string \"hello\" to uppercase\n",
        "d = \"hello\"\n",
        "d.upper()"
      ],
      "metadata": {
        "colab": {
          "base_uri": "https://localhost:8080/",
          "height": 35
        },
        "id": "qC4NwHSH6Xt6",
        "outputId": "dcc4cc9b-5437-4539-958f-7d4e578bcfc1"
      },
      "execution_count": 9,
      "outputs": [
        {
          "output_type": "execute_result",
          "data": {
            "text/plain": [
              "'HELLO'"
            ],
            "application/vnd.google.colaboratory.intrinsic+json": {
              "type": "string"
            }
          },
          "metadata": {},
          "execution_count": 9
        }
      ]
    },
    {
      "cell_type": "code",
      "source": [
        "#5. Write a code to replace the word \"apple\" with \"orange\" in the string \"I like apple\n",
        "e = \"I like apple\"\n",
        "print(e.replace(\"apple\", \"orange\"))"
      ],
      "metadata": {
        "colab": {
          "base_uri": "https://localhost:8080/"
        },
        "id": "oBh5jIEO6XnX",
        "outputId": "e28ee2a4-45d6-48c2-a5b7-91bea460e7af"
      },
      "execution_count": 15,
      "outputs": [
        {
          "output_type": "stream",
          "name": "stdout",
          "text": [
            "I like orange\n"
          ]
        }
      ]
    },
    {
      "cell_type": "code",
      "source": [
        "#6.Write a code to create a list with numbers 1 to 5 and print it\n",
        "[i for i in range(1,6)]"
      ],
      "metadata": {
        "colab": {
          "base_uri": "https://localhost:8080/"
        },
        "id": "kxZud1c76XgO",
        "outputId": "61ce31cf-77d4-470d-a6e2-cb9b9727ce5a"
      },
      "execution_count": 17,
      "outputs": [
        {
          "output_type": "execute_result",
          "data": {
            "text/plain": [
              "[1, 2, 3, 4, 5]"
            ]
          },
          "metadata": {},
          "execution_count": 17
        }
      ]
    },
    {
      "cell_type": "code",
      "source": [
        "#7.Write a code to append the number 10 to the list [1, 2, 3, 4]\n",
        "g = [1,2,3,4]\n",
        "g.append(10)\n",
        "g"
      ],
      "metadata": {
        "colab": {
          "base_uri": "https://localhost:8080/"
        },
        "id": "9iz-1E9c6XZb",
        "outputId": "24e17910-6ca2-4474-ab11-07a2d754a3cf"
      },
      "execution_count": 18,
      "outputs": [
        {
          "output_type": "execute_result",
          "data": {
            "text/plain": [
              "[1, 2, 3, 4, 10]"
            ]
          },
          "metadata": {},
          "execution_count": 18
        }
      ]
    },
    {
      "cell_type": "code",
      "source": [
        "#8.Write a code to remove the number 3 from the list [1, 2, 3, 4, 5]\n",
        "h = [1,2,3,4,5]\n",
        "h.remove(3)\n",
        "h"
      ],
      "metadata": {
        "colab": {
          "base_uri": "https://localhost:8080/"
        },
        "id": "WdCfWf4B6XSJ",
        "outputId": "1728593e-3cd5-4e73-c303-bf01cb5adbb2"
      },
      "execution_count": 19,
      "outputs": [
        {
          "output_type": "execute_result",
          "data": {
            "text/plain": [
              "[1, 2, 4, 5]"
            ]
          },
          "metadata": {},
          "execution_count": 19
        }
      ]
    },
    {
      "cell_type": "code",
      "source": [
        "#9.Write a code to access the second element in the list ['a', 'b', 'c', 'd']\n",
        "i = [\"a\",\"b\",\"c\",\"d\"]\n",
        "i[1]"
      ],
      "metadata": {
        "colab": {
          "base_uri": "https://localhost:8080/",
          "height": 35
        },
        "id": "TSZlysQy6XK4",
        "outputId": "16bbd4a1-9606-4664-e321-a2c452862094"
      },
      "execution_count": 21,
      "outputs": [
        {
          "output_type": "execute_result",
          "data": {
            "text/plain": [
              "'b'"
            ],
            "application/vnd.google.colaboratory.intrinsic+json": {
              "type": "string"
            }
          },
          "metadata": {},
          "execution_count": 21
        }
      ]
    },
    {
      "cell_type": "code",
      "source": [
        "#10. Write a code to reverse the list [10, 20, 30, 40, 50]\n",
        "j = [10,20,30,40,50]\n",
        "j.reverse()\n",
        "j"
      ],
      "metadata": {
        "colab": {
          "base_uri": "https://localhost:8080/"
        },
        "id": "gmbj90Tq6XEc",
        "outputId": "9a1133ac-1f04-42ab-fe73-0b2568f22b7c"
      },
      "execution_count": 22,
      "outputs": [
        {
          "output_type": "execute_result",
          "data": {
            "text/plain": [
              "[50, 40, 30, 20, 10]"
            ]
          },
          "metadata": {},
          "execution_count": 22
        }
      ]
    },
    {
      "cell_type": "code",
      "source": [
        "#11.Write a code to create a tuple with the elements 10, 20, 30 and print it\n",
        "tuple(i for i in range(10,40,10))\n",
        "'''\n",
        "without the tuple function the code generates a generator object.\n",
        "'''"
      ],
      "metadata": {
        "colab": {
          "base_uri": "https://localhost:8080/"
        },
        "id": "EQIecuhg6W9p",
        "outputId": "3fe57f97-bc06-4d6b-9f08-7b984c380d51"
      },
      "execution_count": 24,
      "outputs": [
        {
          "output_type": "execute_result",
          "data": {
            "text/plain": [
              "(10, 20, 30)"
            ]
          },
          "metadata": {},
          "execution_count": 24
        }
      ]
    },
    {
      "cell_type": "code",
      "source": [
        "#12.Write a code to access the first element of the tuple ('apple', 'banana', 'cherry').\n",
        "l = ('apple', 'banana', 'cherry')\n",
        "l[0]\n"
      ],
      "metadata": {
        "colab": {
          "base_uri": "https://localhost:8080/",
          "height": 35
        },
        "id": "i-fyVA5h6W3O",
        "outputId": "b730f434-cdfc-4a48-f1b6-76484f581ac9"
      },
      "execution_count": 25,
      "outputs": [
        {
          "output_type": "execute_result",
          "data": {
            "text/plain": [
              "'apple'"
            ],
            "application/vnd.google.colaboratory.intrinsic+json": {
              "type": "string"
            }
          },
          "metadata": {},
          "execution_count": 25
        }
      ]
    },
    {
      "cell_type": "code",
      "source": [
        "#13.Write a code to count how many times the number 2 appears in the tuple (1, 2, 3, 2, 4, 2)\\\n",
        "m = (1,2,3,2,4,2)\n",
        "m.count(2)"
      ],
      "metadata": {
        "colab": {
          "base_uri": "https://localhost:8080/"
        },
        "id": "YOtfYoa36Ww0",
        "outputId": "16c94fa1-f094-4bb5-e978-ff18f783e23b"
      },
      "execution_count": 26,
      "outputs": [
        {
          "output_type": "execute_result",
          "data": {
            "text/plain": [
              "3"
            ]
          },
          "metadata": {},
          "execution_count": 26
        }
      ]
    },
    {
      "cell_type": "code",
      "source": [
        "#14. Write a code to find the index of the element \"cat\" in the tuple ('dog', 'cat', 'rabbit')\n",
        "n = ('dog', 'cat', 'rabbit')\n",
        "n.index(\"cat\")"
      ],
      "metadata": {
        "colab": {
          "base_uri": "https://localhost:8080/"
        },
        "id": "DIy_8Ci46WrH",
        "outputId": "58375a39-0992-46a6-ec1e-cf5bf49b2c9f"
      },
      "execution_count": 28,
      "outputs": [
        {
          "output_type": "execute_result",
          "data": {
            "text/plain": [
              "1"
            ]
          },
          "metadata": {},
          "execution_count": 28
        }
      ]
    },
    {
      "cell_type": "code",
      "source": [
        "#15.Write a code to check if the element \"banana\" is in the tuple ('apple', 'orange', 'banana').\n",
        "o = ('apple', 'orange', 'banana')\n",
        "\"banana\" in o"
      ],
      "metadata": {
        "colab": {
          "base_uri": "https://localhost:8080/"
        },
        "id": "J-caAFd06WkY",
        "outputId": "5347074c-5188-4405-8b43-c769cf784eed"
      },
      "execution_count": 29,
      "outputs": [
        {
          "output_type": "execute_result",
          "data": {
            "text/plain": [
              "True"
            ]
          },
          "metadata": {},
          "execution_count": 29
        }
      ]
    },
    {
      "cell_type": "code",
      "source": [
        "#16.Write a code to create a set with the elements 1, 2, 3, 4, 5 and print it\n",
        "set(i for i in range(1,6))"
      ],
      "metadata": {
        "colab": {
          "base_uri": "https://localhost:8080/"
        },
        "id": "-Y3I7osY6Wdr",
        "outputId": "05735351-e085-46ac-ca1d-bfe99eafdc2e"
      },
      "execution_count": 32,
      "outputs": [
        {
          "output_type": "execute_result",
          "data": {
            "text/plain": [
              "{1, 2, 3, 4, 5}"
            ]
          },
          "metadata": {},
          "execution_count": 32
        }
      ]
    },
    {
      "cell_type": "code",
      "source": [
        "#17.Write a code to add the element 6 to the set {1, 2, 3, 4}\n",
        "p = {1,2,3,4}\n",
        "p.add(6)\n",
        "p"
      ],
      "metadata": {
        "colab": {
          "base_uri": "https://localhost:8080/"
        },
        "id": "HwX713W26WXp",
        "outputId": "42e26da6-a0c8-4fb2-8477-75b8969aec3f"
      },
      "execution_count": 33,
      "outputs": [
        {
          "output_type": "execute_result",
          "data": {
            "text/plain": [
              "{1, 2, 3, 4, 6}"
            ]
          },
          "metadata": {},
          "execution_count": 33
        }
      ]
    },
    {
      "cell_type": "code",
      "source": [
        "#18.Write a code to create a tuple with the elements 10, 20, 30 and print it\n",
        "tuple(i for i in range(10,40,10))"
      ],
      "metadata": {
        "colab": {
          "base_uri": "https://localhost:8080/"
        },
        "id": "urbxABxC6WRW",
        "outputId": "4769a97b-de53-4a84-f151-9981c9e1b697"
      },
      "execution_count": 35,
      "outputs": [
        {
          "output_type": "execute_result",
          "data": {
            "text/plain": [
              "(10, 20, 30)"
            ]
          },
          "metadata": {},
          "execution_count": 35
        }
      ]
    },
    {
      "cell_type": "code",
      "source": [
        "#19.Write a code to access the first element of the tuple ('apple', 'banana', 'cherry')\n",
        "q = ('apple', 'banana', 'cherry')\n",
        "q[0]"
      ],
      "metadata": {
        "colab": {
          "base_uri": "https://localhost:8080/",
          "height": 35
        },
        "id": "BMp9NgcO6WLl",
        "outputId": "f51a42eb-ceb7-4525-cf20-ec4212ad97a7"
      },
      "execution_count": 36,
      "outputs": [
        {
          "output_type": "execute_result",
          "data": {
            "text/plain": [
              "'apple'"
            ],
            "application/vnd.google.colaboratory.intrinsic+json": {
              "type": "string"
            }
          },
          "metadata": {},
          "execution_count": 36
        }
      ]
    },
    {
      "cell_type": "code",
      "source": [
        "#20.Write a code to count how many times the number 2 appears in the tuple (1, 2, 3, 2, 4, 2).\n",
        "r = (1,2,3,2,4,2)\n",
        "count = 0\n",
        "for i in r:\n",
        "  if i/2 == 1:\n",
        "    count += 1\n",
        "print(count)"
      ],
      "metadata": {
        "colab": {
          "base_uri": "https://localhost:8080/"
        },
        "id": "77dv4tyd6WEp",
        "outputId": "d32c16fb-6fee-408b-ef0b-cec9a2a0571a"
      },
      "execution_count": 37,
      "outputs": [
        {
          "output_type": "stream",
          "name": "stdout",
          "text": [
            "3\n"
          ]
        }
      ]
    },
    {
      "cell_type": "code",
      "source": [
        "#21.Write a code to find the index of the element \"cat\" in the tuple ('dog', 'cat', 'rabbit')\n",
        "s = ('dog', 'cat', 'rabbit')\n",
        "s.index(\"cat\")"
      ],
      "metadata": {
        "colab": {
          "base_uri": "https://localhost:8080/"
        },
        "id": "yO3CpbII6V-u",
        "outputId": "e58d0d49-fa46-41b7-b8bd-b455353ea0c3"
      },
      "execution_count": 38,
      "outputs": [
        {
          "output_type": "execute_result",
          "data": {
            "text/plain": [
              "1"
            ]
          },
          "metadata": {},
          "execution_count": 38
        }
      ]
    },
    {
      "cell_type": "code",
      "source": [
        "#22.Write a code to check if the element \"banana\" is in the tuple ('apple', 'orange', 'banana')\n",
        "o1 = ('apple', 'orange', 'banana')\n",
        "n1 = input(\"what u want to search: \")\n",
        "if n1 in o1:\n",
        "  print(\"found\")\n",
        "else:\n",
        "  print(\"not found\")"
      ],
      "metadata": {
        "colab": {
          "base_uri": "https://localhost:8080/"
        },
        "id": "PEnirdBF6V4L",
        "outputId": "0461e95f-5a8f-44a5-eaee-1818fc068799"
      },
      "execution_count": 40,
      "outputs": [
        {
          "output_type": "stream",
          "name": "stdout",
          "text": [
            "what u want to search: banana\n",
            "found\n"
          ]
        }
      ]
    },
    {
      "cell_type": "code",
      "source": [
        "#23.Write a code to create a set with the elements 1, 2, 3, 4, 5 and print i\n",
        "set(i for i in range(1,6))"
      ],
      "metadata": {
        "colab": {
          "base_uri": "https://localhost:8080/"
        },
        "id": "ziG_JzPQ6V0J",
        "outputId": "453fd4ec-b35c-4e5a-a748-ebe7cbe5c02b"
      },
      "execution_count": 41,
      "outputs": [
        {
          "output_type": "execute_result",
          "data": {
            "text/plain": [
              "{1, 2, 3, 4, 5}"
            ]
          },
          "metadata": {},
          "execution_count": 41
        }
      ]
    },
    {
      "cell_type": "code",
      "execution_count": 43,
      "metadata": {
        "colab": {
          "base_uri": "https://localhost:8080/"
        },
        "id": "LPIjBvt4tfeP",
        "outputId": "2d964d5d-b4b5-45d5-e28b-9bc6d403ff60"
      },
      "outputs": [
        {
          "output_type": "execute_result",
          "data": {
            "text/plain": [
              "{1, 2, 3, 4, 6}"
            ]
          },
          "metadata": {},
          "execution_count": 43
        }
      ],
      "source": [
        "#24. Write a code to add the element 6 to the set {1, 2, 3, 4}.\n",
        "s = {1,2,3,4}\n",
        "s.add(6)\n",
        "s"
      ]
    }
  ]
}